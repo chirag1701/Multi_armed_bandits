{
 "cells": [
  {
   "cell_type": "markdown",
   "id": "a6f5f320-e62f-4fe2-8806-e27b44c38a4f",
   "metadata": {},
   "source": [
    "# A simplified approach to K-armed bandit problem"
   ]
  },
  {
   "cell_type": "code",
   "execution_count": 91,
   "id": "241fb0c5-9703-45e7-9695-e43d2302554d",
   "metadata": {},
   "outputs": [],
   "source": [
    "import numpy as np"
   ]
  },
  {
   "cell_type": "code",
   "execution_count": 92,
   "id": "a4033d8d-a977-4105-ab99-19326b3dae11",
   "metadata": {},
   "outputs": [],
   "source": [
    "class BernoulliBandit:\n",
    "    def __init__(self, p, verbose=True):\n",
    "        self.p = p\n",
    "        if verbose:\n",
    "            #print(\"Creating Bernoulli Bandit with p = %.2f\"%p)\n",
    "            print(\"Creating Bernoulli Bandit with p = {:.2f}\".format(p))\n",
    "    def pull(self):  #it will return 1 with prob p and 0 with prob 1-p\n",
    "        return np.random.binomial(1, self.p)   # 1 being the no. of trials,i.e , the no. of arms pulled     "
   ]
  },
  {
   "cell_type": "code",
   "execution_count": 93,
   "id": "a67cc684-b4e3-448b-b331-5f7f3ad3488e",
   "metadata": {},
   "outputs": [
    {
     "name": "stdout",
     "output_type": "stream",
     "text": [
      "Creating Bernoulli Bandit with p = 0.60\n",
      "0\n"
     ]
    }
   ],
   "source": [
    "c1 = BernoulliBandit(0.6)\n",
    "print(c1.pull())"
   ]
  },
  {
   "cell_type": "code",
   "execution_count": 94,
   "id": "e59e1211-a05a-467d-80a9-298076ffbfa5",
   "metadata": {},
   "outputs": [],
   "source": [
    "import random"
   ]
  },
  {
   "cell_type": "code",
   "execution_count": 95,
   "id": "f53d43bc-9e50-4c4d-adbf-0ee094f15554",
   "metadata": {},
   "outputs": [],
   "source": [
    "class Banditsgameclass:\n",
    "    def __init__(self, K, T , verbose=True):\n",
    "        self.T = T\n",
    "        self.K = K\n",
    "        self.bandits = [BernoulliBandit(np.random.uniform(), verbose) for i in range(K)]   # every element of this array is an object of prev class\n",
    "        self.verbose = verbose\n",
    "    def stochastic_algo(self):\n",
    "        results = np.zeros((self.T))\n",
    "        for t in range(self.T):\n",
    "            k = random.randrange(self.K)\n",
    "            results[t] = self.bandits[k].pull()\n",
    "            if self.verbose:\n",
    "                print(\"T={} Playing Bandit {} Reward is {:.2f}\".format(t, k, results[t]))\n",
    "        return results  "
   ]
  },
  {
   "cell_type": "code",
   "execution_count": 101,
   "id": "1547a4af-9144-41f0-aa69-5c4c429314c1",
   "metadata": {},
   "outputs": [
    {
     "name": "stdout",
     "output_type": "stream",
     "text": [
      "Creating Bernoulli Bandit with p = 0.95\n",
      "Creating Bernoulli Bandit with p = 0.40\n",
      "Creating Bernoulli Bandit with p = 0.79\n",
      "T=0 Playing Bandit 0 Reward is 1.00\n",
      "T=1 Playing Bandit 0 Reward is 1.00\n",
      "T=2 Playing Bandit 1 Reward is 1.00\n",
      "T=3 Playing Bandit 2 Reward is 1.00\n",
      "T=4 Playing Bandit 0 Reward is 1.00\n",
      "T=5 Playing Bandit 0 Reward is 1.00\n",
      "T=6 Playing Bandit 2 Reward is 1.00\n",
      "T=7 Playing Bandit 0 Reward is 1.00\n",
      "T=8 Playing Bandit 1 Reward is 0.00\n",
      "T=9 Playing Bandit 0 Reward is 1.00\n",
      "T=10 Playing Bandit 2 Reward is 1.00\n",
      "T=11 Playing Bandit 0 Reward is 1.00\n",
      "T=12 Playing Bandit 2 Reward is 1.00\n",
      "T=13 Playing Bandit 1 Reward is 0.00\n",
      "T=14 Playing Bandit 0 Reward is 0.00\n",
      "T=15 Playing Bandit 2 Reward is 0.00\n",
      "T=16 Playing Bandit 1 Reward is 0.00\n",
      "T=17 Playing Bandit 1 Reward is 1.00\n",
      "T=18 Playing Bandit 2 Reward is 1.00\n",
      "T=19 Playing Bandit 0 Reward is 1.00\n"
     ]
    },
    {
     "data": {
      "text/plain": [
       "array([1., 1., 1., 1., 1., 1., 1., 1., 0., 1., 1., 1., 1., 0., 0., 0., 0.,\n",
       "       1., 1., 1.])"
      ]
     },
     "execution_count": 101,
     "metadata": {},
     "output_type": "execute_result"
    }
   ],
   "source": [
    "game = Banditsgameclass(K=3 , T= 20)\n",
    "game.stochastic_algo()"
   ]
  },
  {
   "cell_type": "markdown",
   "id": "b4363c4b-b694-42d7-a6ec-a50e9ecd9890",
   "metadata": {},
   "source": [
    "# Running the bandit game multiple times and averaging the rewards"
   ]
  },
  {
   "cell_type": "code",
   "execution_count": 102,
   "id": "c7afcbec-efba-4821-9800-d99c1011d778",
   "metadata": {},
   "outputs": [],
   "source": [
    "def run_simulation(n_runs, runs_per_game, K, T):\n",
    "    \n",
    "    results = np.zeros((K,T))\n",
    "    \n",
    "    for run in range(n_runs):\n",
    "\n",
    "        run_results = np.zeros((K,T))\n",
    "\n",
    "        for run in range(runs_per_game):\n",
    "            game = Banditsgameclass(K=K, T=T, verbose=False)\n",
    "            run_results += game.stochastic_algo()\n",
    "\n",
    "        results += run_results / runs_per_game\n",
    "    \n",
    "    results = results / n_runs\n",
    "    \n",
    "    return results   "
   ]
  },
  {
   "cell_type": "code",
   "execution_count": 98,
   "id": "a0e359fa-c0f2-46f7-a796-3b7e359b8ac9",
   "metadata": {},
   "outputs": [],
   "source": [
    "stochastic_results = run_simulation(n_runs = 10, runs_per_game = 100, T=20, K=10)"
   ]
  },
  {
   "cell_type": "code",
   "execution_count": 99,
   "id": "a7d808e9-33b9-43ff-85c2-705adba868f6",
   "metadata": {},
   "outputs": [
    {
     "name": "stdout",
     "output_type": "stream",
     "text": [
      "Mean reward: 0.49\n",
      "G: 9.90\n"
     ]
    }
   ],
   "source": [
    "stochastic_results1 = run_simulation(n_runs=10, runs_per_game=100, K=3, T=1000)\n",
    "stochastic_results = stochastic_results.mean(axis=0)\n",
    "print(\"Mean reward: {:.2f}\".format(stochastic_results.mean()))\n",
    "print(\"G: {:.2f}\".format(stochastic_results.sum()))\n",
    "\n"
   ]
  },
  {
   "cell_type": "code",
   "execution_count": 100,
   "id": "0b9bf32a-89f9-4ce1-8670-7cf5e6440e5f",
   "metadata": {},
   "outputs": [
    {
     "data": {
      "text/plain": [
       "array([0.483, 0.518, 0.466, 0.493, 0.513, 0.485, 0.495, 0.489, 0.492,\n",
       "       0.483, 0.486, 0.485, 0.502, 0.498, 0.506, 0.477, 0.506, 0.521,\n",
       "       0.48 , 0.52 ])"
      ]
     },
     "execution_count": 100,
     "metadata": {},
     "output_type": "execute_result"
    }
   ],
   "source": [
    "\n",
    "stochastic_results\n"
   ]
  },
  {
   "cell_type": "code",
   "execution_count": null,
   "id": "86484e0c-8bd3-4c35-be96-a91cb4236db9",
   "metadata": {},
   "outputs": [],
   "source": []
  },
  {
   "cell_type": "code",
   "execution_count": null,
   "id": "3a190996-6606-4898-8a62-93f77b21fb93",
   "metadata": {},
   "outputs": [],
   "source": []
  },
  {
   "cell_type": "code",
   "execution_count": null,
   "id": "d4125ee6-bb9a-4c04-b16a-fc6d6fd45f85",
   "metadata": {},
   "outputs": [],
   "source": []
  }
 ],
 "metadata": {
  "kernelspec": {
   "display_name": "Python 3 (ipykernel)",
   "language": "python",
   "name": "python3"
  },
  "language_info": {
   "codemirror_mode": {
    "name": "ipython",
    "version": 3
   },
   "file_extension": ".py",
   "mimetype": "text/x-python",
   "name": "python",
   "nbconvert_exporter": "python",
   "pygments_lexer": "ipython3",
   "version": "3.11.4"
  }
 },
 "nbformat": 4,
 "nbformat_minor": 5
}
